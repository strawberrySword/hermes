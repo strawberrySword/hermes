{
 "cells": [
  {
   "cell_type": "code",
   "execution_count": 1,
   "id": "1f51daac",
   "metadata": {},
   "outputs": [],
   "source": [
    "import pymongo\n",
    "from langdetect import detect, DetectorFactory\n",
    "from langdetect.lang_detect_exception import LangDetectException\n",
    "from tqdm import tqdm\n",
    "\n",
    "# Ensure reproducibility\n",
    "DetectorFactory.seed = 0\n",
    "\n",
    "# 1. Establish connection to MongoDB\n",
    "# Replace the URI with your MongoDB connection string\n",
    "MONGO_URI = \"mongodb://localhost:27017/\"\n",
    "client = pymongo.MongoClient(MONGO_URI)\n",
    "\n",
    "db = client['hermes']\n",
    "collection = db['articles']\n",
    "\n",
    "# 2. Function to check if a text is English\n",
    "\n",
    "def is_english(text: str) -> bool:\n",
    "    try:\n",
    "        lang = detect(text)\n",
    "        return lang == 'en'\n",
    "    except LangDetectException:\n",
    "        # Could not detect language (e.g., empty or invalid text)\n",
    "        return False\n",
    "\n",
    "# 3. Iterate through documents and find non-English titles\n",
    "\n",
    "\n"
   ]
  },
  {
   "cell_type": "code",
   "execution_count": 3,
   "id": "a88b8c7c",
   "metadata": {},
   "outputs": [
    {
     "name": "stderr",
     "output_type": "stream",
     "text": [
      "Checking titles: 100%|██████████| 125107/125107 [03:55<00:00, 530.74it/s]"
     ]
    },
    {
     "name": "stdout",
     "output_type": "stream",
     "text": [
      "Found 8191 non-English titles:\n"
     ]
    },
    {
     "name": "stderr",
     "output_type": "stream",
     "text": [
      "\n"
     ]
    }
   ],
   "source": [
    "non_english_docs = []\n",
    "all = list(collection.find({}, {'title': 1}))\n",
    "for doc in tqdm(all, desc=\"Checking titles\"):\n",
    "    title = doc.get('title', '')\n",
    "    if not title or not is_english(title):\n",
    "        non_english_docs.append(doc)\n",
    "\n",
    "# 4. Output results\n",
    "\n",
    "print(f\"Found {len(non_english_docs)} non-English titles:\")\n",
    "# for doc in non_english_docs:\n",
    "#     print(doc['_id'], doc.get('title', ''))"
   ]
  },
  {
   "cell_type": "code",
   "execution_count": 4,
   "id": "9f0f4308",
   "metadata": {},
   "outputs": [
    {
     "data": {
      "text/plain": [
       "UpdateResult({'n': 8191, 'nModified': 8191, 'ok': 1.0, 'updatedExisting': True}, acknowledged=True)"
      ]
     },
     "execution_count": 4,
     "metadata": {},
     "output_type": "execute_result"
    }
   ],
   "source": [
    "# Optional: Update documents to flag them\n",
    "collection.update_many(\n",
    "    {'_id': {'$in': [d['_id'] for d in non_english_docs]}},\n",
    "    {'$set': {'non_english_title': True}}\n",
    ")"
   ]
  }
 ],
 "metadata": {
  "kernelspec": {
   "display_name": "hermes",
   "language": "python",
   "name": "python3"
  },
  "language_info": {
   "codemirror_mode": {
    "name": "ipython",
    "version": 3
   },
   "file_extension": ".py",
   "mimetype": "text/x-python",
   "name": "python",
   "nbconvert_exporter": "python",
   "pygments_lexer": "ipython3",
   "version": "3.13.2"
  }
 },
 "nbformat": 4,
 "nbformat_minor": 5
}
