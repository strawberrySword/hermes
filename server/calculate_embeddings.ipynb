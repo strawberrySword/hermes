{
 "cells": [
  {
   "cell_type": "markdown",
   "id": "e215d633",
   "metadata": {},
   "source": [
    "## Imports"
   ]
  },
  {
   "cell_type": "code",
   "execution_count": 1,
   "id": "99ef17e7",
   "metadata": {},
   "outputs": [
    {
     "name": "stderr",
     "output_type": "stream",
     "text": [
      "/opt/homebrew/Caskroom/miniconda/base/envs/hermes/lib/python3.13/site-packages/requests/__init__.py:86: RequestsDependencyWarning: Unable to find acceptable character detection dependency (chardet or charset_normalizer).\n",
      "  warnings.warn(\n",
      "/opt/homebrew/Caskroom/miniconda/base/envs/hermes/lib/python3.13/site-packages/tqdm/auto.py:21: TqdmWarning: IProgress not found. Please update jupyter and ipywidgets. See https://ipywidgets.readthedocs.io/en/stable/user_install.html\n",
      "  from .autonotebook import tqdm as notebook_tqdm\n"
     ]
    }
   ],
   "source": [
    "from article_recommender import calculate_candidate_embeddings, load_model"
   ]
  },
  {
   "cell_type": "code",
   "execution_count": 2,
   "id": "6f6fe1a0",
   "metadata": {},
   "outputs": [
    {
     "name": "stdout",
     "output_type": "stream",
     "text": [
      "Total articles: 125107\n"
     ]
    }
   ],
   "source": [
    "# connect to the database\n",
    "import pymongo\n",
    "from pymongo import MongoClient\n",
    "client = MongoClient(\"mongodb://localhost:27017/\")\n",
    "db = client[\"hermes\"]\n",
    "collection = db[\"articles\"]\n",
    "\n",
    "# loop though the articles and update the topic\n",
    "total = collection.count_documents({\"embeddings\": {\"$exists\": False}})\n",
    "print(f\"Total articles: {total}\")\n",
    "model = load_model()"
   ]
  },
  {
   "cell_type": "code",
   "execution_count": 8,
   "id": "4c544249",
   "metadata": {},
   "outputs": [
    {
     "name": "stderr",
     "output_type": "stream",
     "text": [
      "Processing batches: 100%|██████████| 245/245 [04:16<00:00,  1.05s/it]\n"
     ]
    }
   ],
   "source": [
    "from tqdm import tqdm\n",
    "\n",
    "# loop through the articles and update the topic in batches of 64 articles\n",
    "batch_size = 512\n",
    "\n",
    "for i in tqdm(range(0, total, batch_size), desc=\"Processing batches\"):\n",
    "    articles_cursor = collection.find(\n",
    "        {\"embeddings\": {\"$exists\": False}}).limit(batch_size)\n",
    "    articles = list(articles_cursor)\n",
    "    titles = [article[\"title\"] for article in articles]\n",
    "\n",
    "    results = calculate_candidate_embeddings(model, titles)\n",
    "    for article, result in zip(articles, results):\n",
    "\n",
    "        collection.update_one({\"_id\": article[\"_id\"]}, {\n",
    "                              \"$set\": {\"embeddings\": result.detach().cpu().numpy().tolist()}})"
   ]
  }
 ],
 "metadata": {
  "kernelspec": {
   "display_name": "hermes",
   "language": "python",
   "name": "python3"
  },
  "language_info": {
   "codemirror_mode": {
    "name": "ipython",
    "version": 3
   },
   "file_extension": ".py",
   "mimetype": "text/x-python",
   "name": "python",
   "nbconvert_exporter": "python",
   "pygments_lexer": "ipython3",
   "version": "3.13.2"
  }
 },
 "nbformat": 4,
 "nbformat_minor": 5
}
