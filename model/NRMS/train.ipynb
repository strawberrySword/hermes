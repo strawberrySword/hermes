{
 "cells": [
  {
   "cell_type": "code",
   "execution_count": 1,
   "metadata": {},
   "outputs": [],
   "source": [
    "# setup\n",
    "import os\n",
    "import wandb\n",
    "import torch\n",
    "import torch.nn as nn\n",
    "from nrms import NRMS\n",
    "from typing import List, Dict\n",
    "from torch.optim import Adam\n",
    "from torch_optimizer import AdamP\n",
    "from tqdm import tqdm\n",
    "from torch.utils.data import Dataset, DataLoader\n",
    "from transformers import BertTokenizerFast\n",
    "from data import load_and_tokenize_news, load_behaviors, MindDataset, mind_collate_fn"
   ]
  },
  {
   "cell_type": "markdown",
   "metadata": {},
   "source": [
    "# Setup dataloader"
   ]
  },
  {
   "cell_type": "code",
   "execution_count": 2,
   "metadata": {},
   "outputs": [],
   "source": [
    "BASE_DATA_DIR = './data/MIND_'\n",
    "\n",
    "\n",
    "MAX_TITLE_LEN = 100    # each headline → exactly 30 WordPiece IDs (truncated/padded)\n",
    "MAX_HISTORY  = 50     # each user’s clicked history → exactly 50 articles\n",
    "BACTH_SIZE = 6\n",
    "\n",
    "\n",
    "tokenizer = BertTokenizerFast.from_pretrained('bert-base-uncased')\n",
    "PAD_ID = tokenizer.pad_token_id\n",
    "\n",
    "train_news_dict = load_and_tokenize_news(BASE_DATA_DIR+'train/news.tsv', tokenizer, MAX_TITLE_LEN)\n",
    "train_samples   = load_behaviors(BASE_DATA_DIR+'train/behaviors.tsv', train_news_dict, MAX_HISTORY)\n",
    "\n",
    "val_news_dict = load_and_tokenize_news(BASE_DATA_DIR+'val/news.tsv', tokenizer, MAX_TITLE_LEN)\n",
    "val_samples   = load_behaviors(BASE_DATA_DIR+'val/behaviors.tsv', val_news_dict, MAX_HISTORY)\n",
    "\n",
    "\n",
    "train_dataset = MindDataset(train_samples)\n",
    "val_dataset = MindDataset(val_samples)\n",
    "\n",
    "train_dl = DataLoader(\n",
    "    train_dataset,\n",
    "    batch_size=BACTH_SIZE,\n",
    "    shuffle=True,\n",
    "    collate_fn=mind_collate_fn\n",
    ")\n",
    "\n",
    "valid_dl = DataLoader(\n",
    "    val_dataset,\n",
    "    batch_size=BACTH_SIZE,\n",
    "    shuffle=True,\n",
    "    collate_fn=mind_collate_fn\n",
    ")"
   ]
  },
  {
   "cell_type": "markdown",
   "metadata": {},
   "source": [
    "# Define model"
   ]
  },
  {
   "cell_type": "code",
   "execution_count": 3,
   "metadata": {},
   "outputs": [],
   "source": [
    "model = NRMS(\n",
    "    vocab_size=tokenizer.vocab_size,\n",
    "    d_embed=128,\n",
    "    n_heads=4,\n",
    "    d_mlp=256,\n",
    "    news_layers=1,\n",
    "    user_layers=1,\n",
    "    dropout=0.1,\n",
    "    pad_max_len=MAX_TITLE_LEN \n",
    ")"
   ]
  },
  {
   "cell_type": "markdown",
   "metadata": {},
   "source": [
    "# Train loop"
   ]
  },
  {
   "cell_type": "code",
   "execution_count": 4,
   "metadata": {},
   "outputs": [],
   "source": [
    "def train(\n",
    "    model,\n",
    "    train_dataloader,\n",
    "    val_dataloader,\n",
    "    epochs: int = 2,\n",
    "    lr: float = 1e-4,\n",
    "    device: str = \"cuda\",\n",
    "    log_interval: int = 100,\n",
    "    checkpoint_interval: int = 10000,\n",
    "    project_name: str = \"NRMS\",\n",
    "    save_path: str = \"./checkpoints/\",\n",
    "    ):\n",
    "    \"\"\"\n",
    "    Trains `model` using train_dataloader, evaluates on val_dataloader each epoch,\n",
    "    logs metrics to W&B, and finally saves model parameters to `save_path`.\n",
    "\n",
    "    Args:\n",
    "        model: a PyTorch nn.Module that returns logits of shape (B, K) given:\n",
    "               (clicked_ids, clicked_mask, cand_ids, cand_mask)\n",
    "        train_dataloader: torch.utils.data.DataLoader for training\n",
    "        val_dataloader: torch.utils.data.DataLoader for validation\n",
    "        epochs: number of epochs to train\n",
    "        lr: learning rate for Adam\n",
    "        device: \"cuda\" or \"cpu\"\n",
    "        project_name: W&B project name\n",
    "        save_path: where to save the final model.state_dict()\n",
    "    \"\"\"\n",
    "    # Move model to device\n",
    "    model.to(device)\n",
    "\n",
    "    # Initialize W&B\n",
    "    wandb.init(\n",
    "        project=project_name,\n",
    "        config={\n",
    "            \"epochs\": epochs,\n",
    "            \"learning_rate\": lr,\n",
    "            \"optimizer\": \"Adam\",\n",
    "            \"loss_fn\": \"CrossEntropyLoss\",\n",
    "        },\n",
    "    )\n",
    "    wandb.watch(model, log=\"parameters\", log_freq=500)\n",
    "\n",
    "    # Loss and optimizer\n",
    "    criterion = nn.CrossEntropyLoss()\n",
    "    optimizer = Adam(model.parameters(), lr=lr)\n",
    "\n",
    "    step = 0 # increases each batch\n",
    "\n",
    "    for epoch in range(1, epochs + 1):\n",
    "        ##### Training Phase #####\n",
    "        model.train()\n",
    "        total_train_loss = 0.0\n",
    "        total_train_correct = 0\n",
    "        total_train_samples = 0\n",
    "\n",
    "        for clicked_ids, clicked_mask, cand_ids, cand_mask, labels in tqdm(train_dataloader, desc=f\"Epoch {epoch} [Train]\"):\n",
    "            clicked_ids = clicked_ids.to(device)\n",
    "            clicked_mask = clicked_mask.to(device)\n",
    "            cand_ids = cand_ids.to(device)\n",
    "            cand_mask = cand_mask.to(device)\n",
    "            labels = labels.to(device)\n",
    "\n",
    "            optimizer.zero_grad()\n",
    "\n",
    "            # Forward pass\n",
    "            scores = model(clicked_ids, ~clicked_mask, cand_ids, cand_mask)\n",
    "\n",
    "            # Compute training loss\n",
    "            loss = criterion(scores, labels)\n",
    "            loss.backward()\n",
    "            optimizer.step()\n",
    "\n",
    "            # Accumulate stats\n",
    "            total_train_loss += loss.item() * labels.size(0)\n",
    "            preds = scores.argmax(dim=1)\n",
    "            total_train_correct += (preds == labels).sum().item()\n",
    "            total_train_samples += labels.size(0)\n",
    "\n",
    "            if step % log_interval == 0:\n",
    "                # Log to console\n",
    "                # print(\n",
    "                #     f\"Step {step} | \"\n",
    "                #     f\"Train Loss: {loss.item():.4f}, \"\n",
    "                #     f\"Train Acc: {(preds == labels).float().mean().item():.4f}\"\n",
    "                # )\n",
    "                # Log to W&B\n",
    "                wandb.log(\n",
    "                    {\n",
    "                        \"train/loss\": loss.item(),\n",
    "                        \"train/accuracy\": (preds == labels).float().mean().item(),\n",
    "                        \"step\": step,\n",
    "                    }\n",
    "                )\n",
    "\n",
    "            if step % checkpoint_interval == 0:\n",
    "                print(f'Saving checkpoint at step {step}...')\n",
    "                checkpoint_path = save_path + f\"checkpoint_epoch{epoch}_step{step}.pt\"\n",
    "                torch.save(model.state_dict(), checkpoint_path)\n",
    "                print(f\"Checkpoint saved to {checkpoint_path}\")\n",
    "\n",
    "\n",
    "            step += 1\n",
    "\n",
    "\n",
    "        avg_train_loss = total_train_loss / total_train_samples\n",
    "        train_accuracy = total_train_correct / total_train_samples\n",
    "\n",
    "        ##### Validation Phase #####\n",
    "        model.eval()\n",
    "        total_val_loss = 0.0\n",
    "        total_val_correct = 0\n",
    "        total_val_samples = 0\n",
    "\n",
    "        with torch.no_grad():\n",
    "            for clicked_ids, clicked_mask, cand_ids, cand_mask, labels in tqdm(val_dataloader, desc=f\"Epoch {epoch} [Val]\"):\n",
    "                clicked_ids = clicked_ids.to(device)\n",
    "                clicked_mask = clicked_mask.to(device)\n",
    "                cand_ids = cand_ids.to(device)\n",
    "                cand_mask = cand_mask.to(device)\n",
    "                labels = labels.to(device)\n",
    "\n",
    "                # Forward pass\n",
    "                scores = model(clicked_ids, ~clicked_mask, cand_ids, cand_mask)\n",
    "\n",
    "                # Compute validation loss\n",
    "                loss = criterion(scores, labels)\n",
    "                total_val_loss += loss.item() * labels.size(0)\n",
    "\n",
    "                preds = scores.argmax(dim=1)\n",
    "                total_val_correct += (preds == labels).sum().item()\n",
    "                total_val_samples += labels.size(0)\n",
    "\n",
    "        avg_val_loss = total_val_loss / total_val_samples\n",
    "        val_accuracy = total_val_correct / total_val_samples\n",
    "\n",
    "        # Log to console\n",
    "        print(\n",
    "            f\"Epoch {epoch:02d} | \"\n",
    "            f\"Train Loss: {avg_train_loss:.4f}, Train Acc: {train_accuracy:.4f} | \"\n",
    "            f\"Val Loss: {avg_val_loss:.4f}, Val Acc: {val_accuracy:.4f}\"\n",
    "        )\n",
    "\n",
    "        # Log to W&B\n",
    "        wandb.log(\n",
    "            {\n",
    "                \"epoch\": epoch,\n",
    "                \"val/loss\": avg_val_loss,\n",
    "                \"val/accuracy\": val_accuracy,\n",
    "            }\n",
    "        )\n",
    "\n",
    "        # Save model checkpoint after epoch\n",
    "        print(f\"Saving model parameters for epoch {epoch}...\")\n",
    "        checkpoint_path = save_path + f\"checkpoint_epoch{epoch}.pt\"\n",
    "        torch.save(model.state_dict(), checkpoint_path)\n",
    "        print(f\"Checkpoint saved to {checkpoint_path}\")\n",
    "\n",
    "    # Finish the W&B run\n",
    "    wandb.finish()\n"
   ]
  },
  {
   "cell_type": "markdown",
   "metadata": {},
   "source": [
    "# Run training!"
   ]
  },
  {
   "cell_type": "code",
   "execution_count": 5,
   "metadata": {},
   "outputs": [
    {
     "name": "stderr",
     "output_type": "stream",
     "text": [
      "wandb: Currently logged in as: danielvolkov (the_magnivim) to https://api.wandb.ai. Use `wandb login --relogin` to force relogin\n"
     ]
    },
    {
     "data": {
      "text/plain": [
       "True"
      ]
     },
     "execution_count": 5,
     "metadata": {},
     "output_type": "execute_result"
    }
   ],
   "source": [
    "wandb.login()"
   ]
  },
  {
   "cell_type": "code",
   "execution_count": 6,
   "metadata": {},
   "outputs": [
    {
     "name": "stderr",
     "output_type": "stream",
     "text": [
      "wandb: Using wandb-core as the SDK backend.  Please refer to https://wandb.me/wandb-core for more information.\n"
     ]
    },
    {
     "data": {
      "text/html": [
       "Tracking run with wandb version 0.19.6"
      ],
      "text/plain": [
       "<IPython.core.display.HTML object>"
      ]
     },
     "metadata": {},
     "output_type": "display_data"
    },
    {
     "data": {
      "text/html": [
       "Run data is saved locally in <code>c:\\Users\\Danik\\Documents\\TAU\\25B\\Workshop on RecSys\\hermes\\model\\NRMS\\wandb\\run-20250529_231502-r49v7bsl</code>"
      ],
      "text/plain": [
       "<IPython.core.display.HTML object>"
      ]
     },
     "metadata": {},
     "output_type": "display_data"
    },
    {
     "data": {
      "text/html": [
       "Syncing run <strong><a href='https://wandb.ai/the_magnivim/NRMS/runs/r49v7bsl' target=\"_blank\">skilled-shape-7</a></strong> to <a href='https://wandb.ai/the_magnivim/NRMS' target=\"_blank\">Weights & Biases</a> (<a href='https://wandb.me/developer-guide' target=\"_blank\">docs</a>)<br>"
      ],
      "text/plain": [
       "<IPython.core.display.HTML object>"
      ]
     },
     "metadata": {},
     "output_type": "display_data"
    },
    {
     "data": {
      "text/html": [
       " View project at <a href='https://wandb.ai/the_magnivim/NRMS' target=\"_blank\">https://wandb.ai/the_magnivim/NRMS</a>"
      ],
      "text/plain": [
       "<IPython.core.display.HTML object>"
      ]
     },
     "metadata": {},
     "output_type": "display_data"
    },
    {
     "data": {
      "text/html": [
       " View run at <a href='https://wandb.ai/the_magnivim/NRMS/runs/r49v7bsl' target=\"_blank\">https://wandb.ai/the_magnivim/NRMS/runs/r49v7bsl</a>"
      ],
      "text/plain": [
       "<IPython.core.display.HTML object>"
      ]
     },
     "metadata": {},
     "output_type": "display_data"
    },
    {
     "name": "stderr",
     "output_type": "stream",
     "text": [
      "Epoch 1 [Train]:   0%|          | 0/26161 [00:00<?, ?it/s]c:\\Users\\Danik\\AppData\\Local\\Programs\\Python\\Python311\\Lib\\site-packages\\torch\\nn\\functional.py:5560: UserWarning: 1Torch was not compiled with flash attention. (Triggered internally at C:\\actions-runner\\_work\\pytorch\\pytorch\\builder\\windows\\pytorch\\aten\\src\\ATen\\native\\transformers\\cuda\\sdp_utils.cpp:555.)\n",
      "  attn_output = scaled_dot_product_attention(q, k, v, attn_mask, dropout_p, is_causal)\n"
     ]
    },
    {
     "name": "stdout",
     "output_type": "stream",
     "text": [
      "Saving checkpoint at step 0...\n",
      "Checkpoint saved to ./checkpoints/checkpoint_epoch1_step0.pt\n"
     ]
    },
    {
     "name": "stderr",
     "output_type": "stream",
     "text": [
      "Epoch 1 [Train]:   4%|▍         | 1000/26161 [01:46<39:59, 10.49it/s] "
     ]
    },
    {
     "name": "stdout",
     "output_type": "stream",
     "text": [
      "Saving checkpoint at step 1000...\n",
      "Checkpoint saved to ./checkpoints/checkpoint_epoch1_step1000.pt\n"
     ]
    },
    {
     "name": "stderr",
     "output_type": "stream",
     "text": [
      "Epoch 1 [Train]:   8%|▊         | 1999/26161 [03:30<40:04, 10.05it/s]"
     ]
    },
    {
     "name": "stdout",
     "output_type": "stream",
     "text": [
      "Saving checkpoint at step 2000...\n",
      "Checkpoint saved to ./checkpoints/checkpoint_epoch1_step2000.pt\n"
     ]
    },
    {
     "name": "stderr",
     "output_type": "stream",
     "text": [
      "Epoch 1 [Train]:  11%|█▏        | 2999/26161 [05:12<37:28, 10.30it/s]"
     ]
    },
    {
     "name": "stdout",
     "output_type": "stream",
     "text": [
      "Saving checkpoint at step 3000...\n",
      "Checkpoint saved to ./checkpoints/checkpoint_epoch1_step3000.pt\n"
     ]
    },
    {
     "name": "stderr",
     "output_type": "stream",
     "text": [
      "Epoch 1 [Train]:  15%|█▌        | 4000/26161 [06:59<40:33,  9.11it/s]"
     ]
    },
    {
     "name": "stdout",
     "output_type": "stream",
     "text": [
      "Saving checkpoint at step 4000...\n",
      "Checkpoint saved to ./checkpoints/checkpoint_epoch1_step4000.pt\n"
     ]
    },
    {
     "name": "stderr",
     "output_type": "stream",
     "text": [
      "Epoch 1 [Train]:  19%|█▉        | 5000/26161 [08:45<38:56,  9.06it/s]"
     ]
    },
    {
     "name": "stdout",
     "output_type": "stream",
     "text": [
      "Saving checkpoint at step 5000...\n",
      "Checkpoint saved to ./checkpoints/checkpoint_epoch1_step5000.pt\n"
     ]
    },
    {
     "name": "stderr",
     "output_type": "stream",
     "text": [
      "Epoch 1 [Train]:  23%|██▎       | 5999/26161 [10:30<32:28, 10.35it/s]"
     ]
    },
    {
     "name": "stdout",
     "output_type": "stream",
     "text": [
      "Saving checkpoint at step 6000...\n",
      "Checkpoint saved to ./checkpoints/checkpoint_epoch1_step6000.pt\n"
     ]
    },
    {
     "name": "stderr",
     "output_type": "stream",
     "text": [
      "Epoch 1 [Train]:  27%|██▋       | 7000/26161 [12:14<37:43,  8.47it/s]"
     ]
    },
    {
     "name": "stdout",
     "output_type": "stream",
     "text": [
      "Saving checkpoint at step 7000...\n",
      "Checkpoint saved to ./checkpoints/checkpoint_epoch1_step7000.pt\n"
     ]
    },
    {
     "name": "stderr",
     "output_type": "stream",
     "text": [
      "Epoch 1 [Train]:  31%|███       | 8000/26161 [13:58<37:15,  8.12it/s]"
     ]
    },
    {
     "name": "stdout",
     "output_type": "stream",
     "text": [
      "Saving checkpoint at step 8000...\n",
      "Checkpoint saved to ./checkpoints/checkpoint_epoch1_step8000.pt\n"
     ]
    },
    {
     "name": "stderr",
     "output_type": "stream",
     "text": [
      "Epoch 1 [Train]:  34%|███▍      | 8999/26161 [15:44<27:56, 10.23it/s]"
     ]
    },
    {
     "name": "stdout",
     "output_type": "stream",
     "text": [
      "Saving checkpoint at step 9000...\n",
      "Checkpoint saved to ./checkpoints/checkpoint_epoch1_step9000.pt\n"
     ]
    },
    {
     "name": "stderr",
     "output_type": "stream",
     "text": [
      "Epoch 1 [Train]:  38%|███▊      | 10000/26161 [17:32<30:35,  8.80it/s]"
     ]
    },
    {
     "name": "stdout",
     "output_type": "stream",
     "text": [
      "Saving checkpoint at step 10000...\n",
      "Checkpoint saved to ./checkpoints/checkpoint_epoch1_step10000.pt\n"
     ]
    },
    {
     "name": "stderr",
     "output_type": "stream",
     "text": [
      "Epoch 1 [Train]:  42%|████▏     | 10999/26161 [19:17<22:45, 11.10it/s]"
     ]
    },
    {
     "name": "stdout",
     "output_type": "stream",
     "text": [
      "Saving checkpoint at step 11000...\n",
      "Checkpoint saved to ./checkpoints/checkpoint_epoch1_step11000.pt\n"
     ]
    },
    {
     "name": "stderr",
     "output_type": "stream",
     "text": [
      "Epoch 1 [Train]:  46%|████▌     | 12000/26161 [21:04<26:30,  8.90it/s]"
     ]
    },
    {
     "name": "stdout",
     "output_type": "stream",
     "text": [
      "Saving checkpoint at step 12000...\n",
      "Checkpoint saved to ./checkpoints/checkpoint_epoch1_step12000.pt\n"
     ]
    },
    {
     "name": "stderr",
     "output_type": "stream",
     "text": [
      "Epoch 1 [Train]:  50%|████▉     | 13000/26161 [22:49<31:08,  7.04it/s]"
     ]
    },
    {
     "name": "stdout",
     "output_type": "stream",
     "text": [
      "Saving checkpoint at step 13000...\n",
      "Checkpoint saved to ./checkpoints/checkpoint_epoch1_step13000.pt\n"
     ]
    },
    {
     "name": "stderr",
     "output_type": "stream",
     "text": [
      "Epoch 1 [Train]:  54%|█████▎    | 14000/26161 [24:37<25:17,  8.01it/s]"
     ]
    },
    {
     "name": "stdout",
     "output_type": "stream",
     "text": [
      "Saving checkpoint at step 14000...\n",
      "Checkpoint saved to ./checkpoints/checkpoint_epoch1_step14000.pt\n"
     ]
    },
    {
     "name": "stderr",
     "output_type": "stream",
     "text": [
      "Epoch 1 [Train]:  57%|█████▋    | 15000/26161 [26:19<20:45,  8.96it/s]"
     ]
    },
    {
     "name": "stdout",
     "output_type": "stream",
     "text": [
      "Saving checkpoint at step 15000...\n",
      "Checkpoint saved to ./checkpoints/checkpoint_epoch1_step15000.pt\n"
     ]
    },
    {
     "name": "stderr",
     "output_type": "stream",
     "text": [
      "Epoch 1 [Train]:  61%|██████    | 15999/26161 [28:04<15:19, 11.06it/s]"
     ]
    },
    {
     "name": "stdout",
     "output_type": "stream",
     "text": [
      "Saving checkpoint at step 16000...\n",
      "Checkpoint saved to ./checkpoints/checkpoint_epoch1_step16000.pt\n"
     ]
    },
    {
     "name": "stderr",
     "output_type": "stream",
     "text": [
      "Epoch 1 [Train]:  65%|██████▍   | 17000/26161 [29:46<16:12,  9.42it/s]"
     ]
    },
    {
     "name": "stdout",
     "output_type": "stream",
     "text": [
      "Saving checkpoint at step 17000...\n",
      "Checkpoint saved to ./checkpoints/checkpoint_epoch1_step17000.pt\n"
     ]
    },
    {
     "name": "stderr",
     "output_type": "stream",
     "text": [
      "Epoch 1 [Train]:  69%|██████▉   | 17999/26161 [31:28<13:52,  9.81it/s]"
     ]
    },
    {
     "name": "stdout",
     "output_type": "stream",
     "text": [
      "Saving checkpoint at step 18000...\n",
      "Checkpoint saved to ./checkpoints/checkpoint_epoch1_step18000.pt\n"
     ]
    },
    {
     "name": "stderr",
     "output_type": "stream",
     "text": [
      "Epoch 1 [Train]:  73%|███████▎  | 19000/26161 [33:11<14:28,  8.24it/s]"
     ]
    },
    {
     "name": "stdout",
     "output_type": "stream",
     "text": [
      "Saving checkpoint at step 19000...\n",
      "Checkpoint saved to ./checkpoints/checkpoint_epoch1_step19000.pt\n"
     ]
    },
    {
     "name": "stderr",
     "output_type": "stream",
     "text": [
      "Epoch 1 [Train]:  76%|███████▋  | 20000/26161 [34:53<13:58,  7.35it/s]"
     ]
    },
    {
     "name": "stdout",
     "output_type": "stream",
     "text": [
      "Saving checkpoint at step 20000...\n",
      "Checkpoint saved to ./checkpoints/checkpoint_epoch1_step20000.pt\n"
     ]
    },
    {
     "name": "stderr",
     "output_type": "stream",
     "text": [
      "Epoch 1 [Train]:  80%|████████  | 21000/26161 [36:40<08:10, 10.53it/s]"
     ]
    },
    {
     "name": "stdout",
     "output_type": "stream",
     "text": [
      "Saving checkpoint at step 21000...\n",
      "Checkpoint saved to ./checkpoints/checkpoint_epoch1_step21000.pt\n"
     ]
    },
    {
     "name": "stderr",
     "output_type": "stream",
     "text": [
      "Epoch 1 [Train]:  84%|████████▍ | 22000/26161 [38:24<07:41,  9.01it/s]"
     ]
    },
    {
     "name": "stdout",
     "output_type": "stream",
     "text": [
      "Saving checkpoint at step 22000...\n",
      "Checkpoint saved to ./checkpoints/checkpoint_epoch1_step22000.pt\n"
     ]
    },
    {
     "name": "stderr",
     "output_type": "stream",
     "text": [
      "Epoch 1 [Train]:  88%|████████▊ | 23000/26161 [40:09<05:22,  9.80it/s]"
     ]
    },
    {
     "name": "stdout",
     "output_type": "stream",
     "text": [
      "Saving checkpoint at step 23000...\n",
      "Checkpoint saved to ./checkpoints/checkpoint_epoch1_step23000.pt\n"
     ]
    },
    {
     "name": "stderr",
     "output_type": "stream",
     "text": [
      "Epoch 1 [Train]:  92%|█████████▏| 24000/26161 [41:53<04:22,  8.23it/s]"
     ]
    },
    {
     "name": "stdout",
     "output_type": "stream",
     "text": [
      "Saving checkpoint at step 24000...\n",
      "Checkpoint saved to ./checkpoints/checkpoint_epoch1_step24000.pt\n"
     ]
    },
    {
     "name": "stderr",
     "output_type": "stream",
     "text": [
      "Epoch 1 [Train]:  96%|█████████▌| 25000/26161 [43:38<02:08,  9.04it/s]"
     ]
    },
    {
     "name": "stdout",
     "output_type": "stream",
     "text": [
      "Saving checkpoint at step 25000...\n",
      "Checkpoint saved to ./checkpoints/checkpoint_epoch1_step25000.pt\n"
     ]
    },
    {
     "name": "stderr",
     "output_type": "stream",
     "text": [
      "Epoch 1 [Train]:  99%|█████████▉| 26000/26161 [45:22<00:17,  9.17it/s]"
     ]
    },
    {
     "name": "stdout",
     "output_type": "stream",
     "text": [
      "Saving checkpoint at step 26000...\n",
      "Checkpoint saved to ./checkpoints/checkpoint_epoch1_step26000.pt\n"
     ]
    },
    {
     "name": "stderr",
     "output_type": "stream",
     "text": [
      "Epoch 1 [Train]: 100%|██████████| 26161/26161 [45:39<00:00,  9.55it/s]\n",
      "Epoch 1 [Val]:   0%|          | 0/12192 [00:00<?, ?it/s]c:\\Users\\Danik\\AppData\\Local\\Programs\\Python\\Python311\\Lib\\site-packages\\torch\\nn\\modules\\transformer.py:409: UserWarning: The PyTorch API of nested tensors is in prototype stage and will change in the near future. (Triggered internally at C:\\actions-runner\\_work\\pytorch\\pytorch\\builder\\windows\\pytorch\\aten\\src\\ATen\\NestedTensorImpl.cpp:180.)\n",
      "  output = torch._nested_tensor_from_mask(output, src_key_padding_mask.logical_not(), mask_check=False)\n",
      "Epoch 1 [Val]: 100%|██████████| 12192/12192 [05:45<00:00, 35.26it/s]\n"
     ]
    },
    {
     "name": "stdout",
     "output_type": "stream",
     "text": [
      "Epoch 01 | Train Loss: 473.1472, Train Acc: 0.1106 | Val Loss: 4.4230, Val Acc: 0.1033\n",
      "Saving model parameters for epoch 1...\n",
      "Checkpoint saved to ./checkpoints/checkpoint_epoch1.pt\n"
     ]
    },
    {
     "name": "stderr",
     "output_type": "stream",
     "text": [
      "Epoch 2 [Train]:   3%|▎         | 838/26161 [01:27<43:39,  9.67it/s]"
     ]
    },
    {
     "name": "stdout",
     "output_type": "stream",
     "text": [
      "Saving checkpoint at step 27000...\n",
      "Checkpoint saved to ./checkpoints/checkpoint_epoch2_step27000.pt\n"
     ]
    },
    {
     "name": "stderr",
     "output_type": "stream",
     "text": [
      "Epoch 2 [Train]:   7%|▋         | 1838/26161 [03:13<44:35,  9.09it/s]  "
     ]
    },
    {
     "name": "stdout",
     "output_type": "stream",
     "text": [
      "Saving checkpoint at step 28000...\n",
      "Checkpoint saved to ./checkpoints/checkpoint_epoch2_step28000.pt\n"
     ]
    },
    {
     "name": "stderr",
     "output_type": "stream",
     "text": [
      "Epoch 2 [Train]:  11%|█         | 2839/26161 [04:59<35:14, 11.03it/s]"
     ]
    },
    {
     "name": "stdout",
     "output_type": "stream",
     "text": [
      "Saving checkpoint at step 29000...\n",
      "Checkpoint saved to ./checkpoints/checkpoint_epoch2_step29000.pt\n"
     ]
    },
    {
     "name": "stderr",
     "output_type": "stream",
     "text": [
      "Epoch 2 [Train]:  15%|█▍        | 3839/26161 [06:45<44:12,  8.42it/s]"
     ]
    },
    {
     "name": "stdout",
     "output_type": "stream",
     "text": [
      "Saving checkpoint at step 30000...\n",
      "Checkpoint saved to ./checkpoints/checkpoint_epoch2_step30000.pt\n"
     ]
    },
    {
     "name": "stderr",
     "output_type": "stream",
     "text": [
      "Epoch 2 [Train]:  18%|█▊        | 4839/26161 [08:27<32:17, 11.00it/s]"
     ]
    },
    {
     "name": "stdout",
     "output_type": "stream",
     "text": [
      "Saving checkpoint at step 31000...\n",
      "Checkpoint saved to ./checkpoints/checkpoint_epoch2_step31000.pt\n"
     ]
    },
    {
     "name": "stderr",
     "output_type": "stream",
     "text": [
      "Epoch 2 [Train]:  22%|██▏       | 5839/26161 [10:12<35:45,  9.47it/s]"
     ]
    },
    {
     "name": "stdout",
     "output_type": "stream",
     "text": [
      "Saving checkpoint at step 32000...\n",
      "Checkpoint saved to ./checkpoints/checkpoint_epoch2_step32000.pt\n"
     ]
    },
    {
     "name": "stderr",
     "output_type": "stream",
     "text": [
      "Epoch 2 [Train]:  26%|██▌       | 6838/26161 [11:58<34:10,  9.42it/s]"
     ]
    },
    {
     "name": "stdout",
     "output_type": "stream",
     "text": [
      "Saving checkpoint at step 33000...\n",
      "Checkpoint saved to ./checkpoints/checkpoint_epoch2_step33000.pt\n"
     ]
    },
    {
     "name": "stderr",
     "output_type": "stream",
     "text": [
      "Epoch 2 [Train]:  30%|██▉       | 7839/26161 [13:41<33:16,  9.18it/s]"
     ]
    },
    {
     "name": "stdout",
     "output_type": "stream",
     "text": [
      "Saving checkpoint at step 34000...\n",
      "Checkpoint saved to ./checkpoints/checkpoint_epoch2_step34000.pt\n"
     ]
    },
    {
     "name": "stderr",
     "output_type": "stream",
     "text": [
      "Epoch 2 [Train]:  34%|███▍      | 8838/26161 [15:22<27:34, 10.47it/s]"
     ]
    },
    {
     "name": "stdout",
     "output_type": "stream",
     "text": [
      "Saving checkpoint at step 35000...\n",
      "Checkpoint saved to ./checkpoints/checkpoint_epoch2_step35000.pt\n"
     ]
    },
    {
     "name": "stderr",
     "output_type": "stream",
     "text": [
      "Epoch 2 [Train]:  38%|███▊      | 9839/26161 [17:04<30:12,  9.01it/s]"
     ]
    },
    {
     "name": "stdout",
     "output_type": "stream",
     "text": [
      "Saving checkpoint at step 36000...\n",
      "Checkpoint saved to ./checkpoints/checkpoint_epoch2_step36000.pt\n"
     ]
    },
    {
     "name": "stderr",
     "output_type": "stream",
     "text": [
      "Epoch 2 [Train]:  41%|████▏     | 10838/26161 [18:45<25:38,  9.96it/s]"
     ]
    },
    {
     "name": "stdout",
     "output_type": "stream",
     "text": [
      "Saving checkpoint at step 37000...\n",
      "Checkpoint saved to ./checkpoints/checkpoint_epoch2_step37000.pt\n"
     ]
    },
    {
     "name": "stderr",
     "output_type": "stream",
     "text": [
      "Epoch 2 [Train]:  45%|████▌     | 11839/26161 [20:27<25:04,  9.52it/s]"
     ]
    },
    {
     "name": "stdout",
     "output_type": "stream",
     "text": [
      "Saving checkpoint at step 38000...\n",
      "Checkpoint saved to ./checkpoints/checkpoint_epoch2_step38000.pt\n"
     ]
    },
    {
     "name": "stderr",
     "output_type": "stream",
     "text": [
      "Epoch 2 [Train]:  49%|████▉     | 12838/26161 [22:08<21:27, 10.35it/s]"
     ]
    },
    {
     "name": "stdout",
     "output_type": "stream",
     "text": [
      "Saving checkpoint at step 39000...\n",
      "Checkpoint saved to ./checkpoints/checkpoint_epoch2_step39000.pt\n"
     ]
    },
    {
     "name": "stderr",
     "output_type": "stream",
     "text": [
      "Epoch 2 [Train]:  53%|█████▎    | 13839/26161 [23:51<21:55,  9.37it/s]"
     ]
    },
    {
     "name": "stdout",
     "output_type": "stream",
     "text": [
      "Saving checkpoint at step 40000...\n",
      "Checkpoint saved to ./checkpoints/checkpoint_epoch2_step40000.pt\n"
     ]
    },
    {
     "name": "stderr",
     "output_type": "stream",
     "text": [
      "Epoch 2 [Train]:  57%|█████▋    | 14839/26161 [25:36<18:51, 10.01it/s]"
     ]
    },
    {
     "name": "stdout",
     "output_type": "stream",
     "text": [
      "Saving checkpoint at step 41000...\n",
      "Checkpoint saved to ./checkpoints/checkpoint_epoch2_step41000.pt\n"
     ]
    },
    {
     "name": "stderr",
     "output_type": "stream",
     "text": [
      "Epoch 2 [Train]:  61%|██████    | 15839/26161 [27:20<14:13, 12.09it/s]"
     ]
    },
    {
     "name": "stdout",
     "output_type": "stream",
     "text": [
      "Saving checkpoint at step 42000...\n",
      "Checkpoint saved to ./checkpoints/checkpoint_epoch2_step42000.pt\n"
     ]
    },
    {
     "name": "stderr",
     "output_type": "stream",
     "text": [
      "Epoch 2 [Train]:  64%|██████▍   | 16838/26161 [29:08<20:28,  7.59it/s]"
     ]
    },
    {
     "name": "stdout",
     "output_type": "stream",
     "text": [
      "Saving checkpoint at step 43000...\n",
      "Checkpoint saved to ./checkpoints/checkpoint_epoch2_step43000.pt\n"
     ]
    },
    {
     "name": "stderr",
     "output_type": "stream",
     "text": [
      "Epoch 2 [Train]:  68%|██████▊   | 17838/26161 [31:00<15:04,  9.20it/s]"
     ]
    },
    {
     "name": "stdout",
     "output_type": "stream",
     "text": [
      "Saving checkpoint at step 44000...\n",
      "Checkpoint saved to ./checkpoints/checkpoint_epoch2_step44000.pt\n"
     ]
    },
    {
     "name": "stderr",
     "output_type": "stream",
     "text": [
      "Epoch 2 [Train]:  72%|███████▏  | 18839/26161 [32:43<13:14,  9.21it/s]"
     ]
    },
    {
     "name": "stdout",
     "output_type": "stream",
     "text": [
      "Saving checkpoint at step 45000...\n",
      "Checkpoint saved to ./checkpoints/checkpoint_epoch2_step45000.pt\n"
     ]
    },
    {
     "name": "stderr",
     "output_type": "stream",
     "text": [
      "Epoch 2 [Train]:  76%|███████▌  | 19838/26161 [34:24<10:24, 10.13it/s]"
     ]
    },
    {
     "name": "stdout",
     "output_type": "stream",
     "text": [
      "Saving checkpoint at step 46000...\n",
      "Checkpoint saved to ./checkpoints/checkpoint_epoch2_step46000.pt\n"
     ]
    },
    {
     "name": "stderr",
     "output_type": "stream",
     "text": [
      "Epoch 2 [Train]:  80%|███████▉  | 20838/26161 [36:06<09:14,  9.59it/s]"
     ]
    },
    {
     "name": "stdout",
     "output_type": "stream",
     "text": [
      "Saving checkpoint at step 47000...\n",
      "Checkpoint saved to ./checkpoints/checkpoint_epoch2_step47000.pt\n"
     ]
    },
    {
     "name": "stderr",
     "output_type": "stream",
     "text": [
      "Epoch 2 [Train]:  83%|████████▎ | 21839/26161 [37:50<07:53,  9.12it/s]"
     ]
    },
    {
     "name": "stdout",
     "output_type": "stream",
     "text": [
      "Saving checkpoint at step 48000...\n",
      "Checkpoint saved to ./checkpoints/checkpoint_epoch2_step48000.pt\n"
     ]
    },
    {
     "name": "stderr",
     "output_type": "stream",
     "text": [
      "Epoch 2 [Train]:  87%|████████▋ | 22838/26161 [39:33<05:50,  9.49it/s]"
     ]
    },
    {
     "name": "stdout",
     "output_type": "stream",
     "text": [
      "Saving checkpoint at step 49000...\n",
      "Checkpoint saved to ./checkpoints/checkpoint_epoch2_step49000.pt\n"
     ]
    },
    {
     "name": "stderr",
     "output_type": "stream",
     "text": [
      "Epoch 2 [Train]:  91%|█████████ | 23838/26161 [41:24<03:51, 10.03it/s]"
     ]
    },
    {
     "name": "stdout",
     "output_type": "stream",
     "text": [
      "Saving checkpoint at step 50000...\n",
      "Checkpoint saved to ./checkpoints/checkpoint_epoch2_step50000.pt\n"
     ]
    },
    {
     "name": "stderr",
     "output_type": "stream",
     "text": [
      "Epoch 2 [Train]:  95%|█████████▍| 24838/26161 [43:13<02:13,  9.90it/s]"
     ]
    },
    {
     "name": "stdout",
     "output_type": "stream",
     "text": [
      "Saving checkpoint at step 51000...\n",
      "Checkpoint saved to ./checkpoints/checkpoint_epoch2_step51000.pt\n"
     ]
    },
    {
     "name": "stderr",
     "output_type": "stream",
     "text": [
      "Epoch 2 [Train]:  99%|█████████▉| 25839/26161 [45:02<00:32,  9.82it/s]"
     ]
    },
    {
     "name": "stdout",
     "output_type": "stream",
     "text": [
      "Saving checkpoint at step 52000...\n",
      "Checkpoint saved to ./checkpoints/checkpoint_epoch2_step52000.pt\n"
     ]
    },
    {
     "name": "stderr",
     "output_type": "stream",
     "text": [
      "Epoch 2 [Train]: 100%|██████████| 26161/26161 [45:36<00:00,  9.56it/s]\n",
      "Epoch 2 [Val]: 100%|██████████| 12192/12192 [05:42<00:00, 35.64it/s]\n"
     ]
    },
    {
     "name": "stdout",
     "output_type": "stream",
     "text": [
      "Epoch 02 | Train Loss: 8.3159, Train Acc: 0.1188 | Val Loss: 3.1634, Val Acc: 0.0947\n",
      "Saving model parameters for epoch 2...\n",
      "Checkpoint saved to ./checkpoints/checkpoint_epoch2.pt\n"
     ]
    },
    {
     "data": {
      "text/html": [],
      "text/plain": [
       "<IPython.core.display.HTML object>"
      ]
     },
     "metadata": {},
     "output_type": "display_data"
    },
    {
     "data": {
      "text/html": [
       "<br>    <style><br>        .wandb-row {<br>            display: flex;<br>            flex-direction: row;<br>            flex-wrap: wrap;<br>            justify-content: flex-start;<br>            width: 100%;<br>        }<br>        .wandb-col {<br>            display: flex;<br>            flex-direction: column;<br>            flex-basis: 100%;<br>            flex: 1;<br>            padding: 10px;<br>        }<br>    </style><br><div class=\"wandb-row\"><div class=\"wandb-col\"><h3>Run history:</h3><br/><table class=\"wandb\"><tr><td>epoch</td><td>▁█</td></tr><tr><td>step</td><td>▁▁▁▁▁▂▂▂▃▃▃▃▃▃▄▄▅▅▅▅▅▅▅▅▆▆▆▆▆▆▇▇▇▇▇▇▇▇▇█</td></tr><tr><td>train/accuracy</td><td>▃▃▃▃█▃▃▁▃▁▃▃▃█▃▆▁▁▁▃▃▃▃▆▃▁▁▃▁▃▁▁▆▆▆▆▃▁▁▃</td></tr><tr><td>train/loss</td><td>█▁▁▁▁▁▁▁▁▁▁▁▁▁▁▁▁▁▁▁▁▁▁▁▁▁▁▁▁▁▁▁▁▁▁▁▁▁▁▁</td></tr><tr><td>val/accuracy</td><td>█▁</td></tr><tr><td>val/loss</td><td>█▁</td></tr></table><br/></div><div class=\"wandb-col\"><h3>Run summary:</h3><br/><table class=\"wandb\"><tr><td>epoch</td><td>2</td></tr><tr><td>step</td><td>52300</td></tr><tr><td>train/accuracy</td><td>0</td></tr><tr><td>train/loss</td><td>4.08601</td></tr><tr><td>val/accuracy</td><td>0.09465</td></tr><tr><td>val/loss</td><td>3.16344</td></tr></table><br/></div></div>"
      ],
      "text/plain": [
       "<IPython.core.display.HTML object>"
      ]
     },
     "metadata": {},
     "output_type": "display_data"
    },
    {
     "data": {
      "text/html": [
       " View run <strong style=\"color:#cdcd00\">skilled-shape-7</strong> at: <a href='https://wandb.ai/the_magnivim/NRMS/runs/r49v7bsl' target=\"_blank\">https://wandb.ai/the_magnivim/NRMS/runs/r49v7bsl</a><br> View project at: <a href='https://wandb.ai/the_magnivim/NRMS' target=\"_blank\">https://wandb.ai/the_magnivim/NRMS</a><br>Synced 5 W&B file(s), 0 media file(s), 0 artifact file(s) and 0 other file(s)"
      ],
      "text/plain": [
       "<IPython.core.display.HTML object>"
      ]
     },
     "metadata": {},
     "output_type": "display_data"
    },
    {
     "data": {
      "text/html": [
       "Find logs at: <code>.\\wandb\\run-20250529_231502-r49v7bsl\\logs</code>"
      ],
      "text/plain": [
       "<IPython.core.display.HTML object>"
      ]
     },
     "metadata": {},
     "output_type": "display_data"
    }
   ],
   "source": [
    "train(\n",
    "    model,\n",
    "    train_dl,\n",
    "    valid_dl,\n",
    "    epochs=2,\n",
    "    lr=1e-4,\n",
    "    device=\"cuda\" if torch.cuda.is_available() else \"cpu\",\n",
    "    log_interval=100,\n",
    "    checkpoint_interval=1000,\n",
    "    project_name=\"NRMS\",\n",
    "    save_path=\"./checkpoints/\"\n",
    ")"
   ]
  }
 ],
 "metadata": {
  "kernelspec": {
   "display_name": "Python 3",
   "language": "python",
   "name": "python3"
  },
  "language_info": {
   "codemirror_mode": {
    "name": "ipython",
    "version": 3
   },
   "file_extension": ".py",
   "mimetype": "text/x-python",
   "name": "python",
   "nbconvert_exporter": "python",
   "pygments_lexer": "ipython3",
   "version": "3.11.1"
  }
 },
 "nbformat": 4,
 "nbformat_minor": 2
}
