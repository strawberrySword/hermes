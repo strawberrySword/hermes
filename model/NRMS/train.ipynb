{
 "cells": [
  {
   "cell_type": "markdown",
   "metadata": {},
   "source": [
    "# Setup dataloader"
   ]
  },
  {
   "cell_type": "code",
   "execution_count": 1,
   "metadata": {},
   "outputs": [
    {
     "name": "stdout",
     "output_type": "stream",
     "text": [
      "  → Total news articles tokenized: 42416\n",
      "  → Total impression samples loaded: 73152\n"
     ]
    }
   ],
   "source": [
    "import os\n",
    "from typing import List, Dict\n",
    "import torch\n",
    "from torch.utils.data import Dataset, DataLoader\n",
    "from transformers import BertTokenizerFast\n",
    "from data import load_and_tokenize_news, load_behaviors, MindDataset, mind_collate_fn\n",
    "\n",
    "NEWS_TSV_PATH = \"./data/MIND_val/news.tsv\"\n",
    "BEHAVIORS_TSV_PATH = \"./data/MIND_val/behaviors.tsv\"\n",
    "\n",
    "MAX_TITLE_LEN = 100    # each headline → exactly 30 WordPiece IDs (truncated/padded)\n",
    "MAX_HISTORY  = 50     # each user’s clicked history → exactly 50 articles\n",
    "\n",
    "# Load BERT tokenizer\n",
    "tokenizer = BertTokenizerFast.from_pretrained('bert-base-uncased')\n",
    "PAD_ID = tokenizer.pad_token_id  # usually 0\n",
    "\n",
    "\n",
    "news_dict = load_and_tokenize_news(NEWS_TSV_PATH, tokenizer, MAX_TITLE_LEN)\n",
    "samples   = load_behaviors(BEHAVIORS_TSV_PATH, news_dict, MAX_HISTORY)\n",
    "\n",
    "print(f\"  → Total news articles tokenized: {len(news_dict)}\")\n",
    "print(f\"  → Total impression samples loaded: {len(samples)}\")\n",
    "\n",
    "\n",
    "dataset = MindDataset(samples)\n",
    "loader = DataLoader(\n",
    "    dataset,\n",
    "    batch_size=8,\n",
    "    shuffle=True,\n",
    "    collate_fn=mind_collate_fn\n",
    ")"
   ]
  },
  {
   "cell_type": "markdown",
   "metadata": {},
   "source": [
    "# Define model"
   ]
  },
  {
   "cell_type": "code",
   "execution_count": 2,
   "metadata": {},
   "outputs": [],
   "source": [
    "from nrms import NRMS\n",
    "\n",
    "\n",
    "model = NRMS(\n",
    "    vocab_size=tokenizer.vocab_size,\n",
    "    d_embed=768,\n",
    "    n_heads=12,\n",
    "    d_mlp=3072,\n",
    "    news_layers=1,\n",
    "    user_layers=1,\n",
    "    dropout=0.1,\n",
    "    pad_max_len=MAX_TITLE_LEN \n",
    ")"
   ]
  },
  {
   "cell_type": "code",
   "execution_count": null,
   "metadata": {},
   "outputs": [
    {
     "ename": "",
     "evalue": "",
     "output_type": "error",
     "traceback": [
      "\u001b[1;31mThe Kernel crashed while executing code in the current cell or a previous cell. \n",
      "\u001b[1;31mPlease review the code in the cell(s) to identify a possible cause of the failure. \n",
      "\u001b[1;31mClick <a href='https://aka.ms/vscodeJupyterKernelCrash'>here</a> for more info. \n",
      "\u001b[1;31mView Jupyter <a href='command:jupyter.viewOutput'>log</a> for further details."
     ]
    }
   ],
   "source": [
    "for clicked_ids, clicked_mask, cand_ids, cand_mask, labels in loader:\n",
    "    print(model(clicked_ids, clicked_mask, cand_ids, cand_mask))\n",
    "    break"
   ]
  }
 ],
 "metadata": {
  "kernelspec": {
   "display_name": "recSys_kernel",
   "language": "python",
   "name": "recsys"
  },
  "language_info": {
   "codemirror_mode": {
    "name": "ipython",
    "version": 3
   },
   "file_extension": ".py",
   "mimetype": "text/x-python",
   "name": "python",
   "nbconvert_exporter": "python",
   "pygments_lexer": "ipython3",
   "version": "3.12.9"
  }
 },
 "nbformat": 4,
 "nbformat_minor": 2
}
