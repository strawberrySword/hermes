{
 "cells": [
  {
   "cell_type": "code",
   "execution_count": 1,
   "metadata": {},
   "outputs": [
    {
     "name": "stdout",
     "output_type": "stream",
     "text": [
      "B = 3, N = 3, L = 5\n",
      "clicked_token_ids:\n",
      "tensor([[[ 5, 12, 34,  0,  0],\n",
      "         [ 7,  8,  0,  0,  0],\n",
      "         [ 0,  0,  0,  0,  0]],\n",
      "\n",
      "        [[ 9, 21, 33, 45,  0],\n",
      "         [ 2,  0,  0,  0,  0],\n",
      "         [11, 13, 17,  0,  0]],\n",
      "\n",
      "        [[14, 15, 16, 17, 18],\n",
      "         [ 0,  0,  0,  0,  0],\n",
      "         [ 0,  0,  0,  0,  0]]])\n",
      "\n",
      "clicked_token_mask (True = PAD):\n",
      "tensor([[[False, False, False,  True,  True],\n",
      "         [False, False,  True,  True,  True],\n",
      "         [ True,  True,  True,  True,  True]],\n",
      "\n",
      "        [[False, False, False, False,  True],\n",
      "         [False,  True,  True,  True,  True],\n",
      "         [False, False, False,  True,  True]],\n",
      "\n",
      "        [[False, False, False, False, False],\n",
      "         [ True,  True,  True,  True,  True],\n",
      "         [ True,  True,  True,  True,  True]]])\n",
      "\n",
      "clicked_slot_mask (True = this slot is entirely padding):\n",
      "tensor([[False, False,  True],\n",
      "        [False, False, False],\n",
      "        [False,  True,  True]])\n"
     ]
    }
   ],
   "source": [
    "import torch\n",
    "\n",
    "\n",
    "\n",
    "\n",
    "clicked_articles = [\n",
    "    [ [5, 12, 34],      [7, 8]         ],               # user 0: 2 articles\n",
    "    [ [9, 21, 33, 45],  [2],         [11, 13, 17] ],     # user 1: 3 articles\n",
    "    [ [14, 15, 16, 17, 18] ]                           # user 2: 1 article\n",
    "]\n",
    "\n",
    "PAD_ID = 0\n",
    "\n",
    "\n",
    "B = len(clicked_articles)                                                        # No. of users\n",
    "N = max(len(user_list) for user_list in clicked_articles)                        # Max No. of articles\n",
    "L = max(len(article) for user_list in clicked_articles for article in user_list) # Max No. of tokens in an article\n",
    "\n",
    "print(f\"B = {B}, N = {N}, L = {L}\")\n",
    "\n",
    "# Initialize clicked_token_ids with PAD_ID\n",
    "clicked_token_ids = torch.full((B, N, L), PAD_ID, dtype=torch.long)\n",
    "\n",
    "# Initialize clicked_token_mask with True\n",
    "clicked_token_mask = torch.ones((B, N, L), dtype=torch.bool)\n",
    "\n",
    "for b, user_list in enumerate(clicked_articles):\n",
    "    for i, article_tokens in enumerate(user_list):\n",
    "        length = len(article_tokens)\n",
    "\n",
    "        clicked_token_ids[b, i, :length] = torch.tensor(article_tokens, dtype=torch.long)    \n",
    "        clicked_token_mask[b, i, :length] = False\n",
    "\n",
    "print(\"clicked_token_ids:\")\n",
    "print(clicked_token_ids)\n",
    "print(\"\\nclicked_token_mask (True = PAD):\")\n",
    "print(clicked_token_mask)\n",
    "\n",
    "\n",
    "# Fully padded articles are ones where all tokens are padding\n",
    "clicked_slot_mask = clicked_token_mask.all(dim=2)  # shape (B, N)\n",
    "\n",
    "print(\"\\nclicked_slot_mask (True = this slot is entirely padding):\")\n",
    "print(clicked_slot_mask)"
   ]
  }
 ],
 "metadata": {
  "kernelspec": {
   "display_name": "recSys_kernel",
   "language": "python",
   "name": "recsys"
  },
  "language_info": {
   "codemirror_mode": {
    "name": "ipython",
    "version": 3
   },
   "file_extension": ".py",
   "mimetype": "text/x-python",
   "name": "python",
   "nbconvert_exporter": "python",
   "pygments_lexer": "ipython3",
   "version": "3.12.9"
  }
 },
 "nbformat": 4,
 "nbformat_minor": 2
}
